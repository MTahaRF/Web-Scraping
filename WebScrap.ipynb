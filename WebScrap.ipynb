{
  "cells": [
    {
      "cell_type": "markdown",
      "metadata": {
        "id": "view-in-github",
        "colab_type": "text"
      },
      "source": [
        "<a href=\"https://colab.research.google.com/github/MTahaRF/Web-Scraping/blob/main/WebScrap.ipynb\" target=\"_parent\"><img src=\"https://colab.research.google.com/assets/colab-badge.svg\" alt=\"Open In Colab\"/></a>"
      ]
    },
    {
      "cell_type": "markdown",
      "source": [
        "#Assignment 1 For SAC\n",
        "This assignment scraps the IMDB website top 250 movies and stores the Rank,Movie Name,IMDB score,Year Of Release and Duration of the movies and stores them in .CSV file\n",
        "\n",
        "This Program scraps using the python libraries requests,beautifulsoup4 and pandas\n",
        "\n",
        "###Submitted By Roll no : 160722747080"
      ],
      "metadata": {
        "id": "Gl15Dephd53P"
      },
      "id": "Gl15Dephd53P"
    },
    {
      "cell_type": "markdown",
      "source": [
        "#Installation of the libraries"
      ],
      "metadata": {
        "id": "UMphMYPjNW2k"
      },
      "id": "UMphMYPjNW2k"
    },
    {
      "cell_type": "code",
      "source": [
        "!pip install requests\n",
        "!pip install beautifulsoup4\n",
        "!pip install pandas"
      ],
      "metadata": {
        "id": "CHU6vcfwNTbR",
        "colab": {
          "base_uri": "https://localhost:8080/"
        },
        "outputId": "f092de8e-751f-47e0-8019-41b10d98a62b"
      },
      "id": "CHU6vcfwNTbR",
      "execution_count": null,
      "outputs": [
        {
          "output_type": "stream",
          "name": "stdout",
          "text": [
            "Requirement already satisfied: requests in /usr/local/lib/python3.10/dist-packages (2.31.0)\n",
            "Requirement already satisfied: charset-normalizer<4,>=2 in /usr/local/lib/python3.10/dist-packages (from requests) (3.3.2)\n",
            "Requirement already satisfied: idna<4,>=2.5 in /usr/local/lib/python3.10/dist-packages (from requests) (3.6)\n",
            "Requirement already satisfied: urllib3<3,>=1.21.1 in /usr/local/lib/python3.10/dist-packages (from requests) (2.0.7)\n",
            "Requirement already satisfied: certifi>=2017.4.17 in /usr/local/lib/python3.10/dist-packages (from requests) (2024.2.2)\n",
            "Requirement already satisfied: beautifulsoup4 in /usr/local/lib/python3.10/dist-packages (4.12.3)\n",
            "Requirement already satisfied: soupsieve>1.2 in /usr/local/lib/python3.10/dist-packages (from beautifulsoup4) (2.5)\n",
            "Requirement already satisfied: pandas in /usr/local/lib/python3.10/dist-packages (1.5.3)\n",
            "Requirement already satisfied: python-dateutil>=2.8.1 in /usr/local/lib/python3.10/dist-packages (from pandas) (2.8.2)\n",
            "Requirement already satisfied: pytz>=2020.1 in /usr/local/lib/python3.10/dist-packages (from pandas) (2023.4)\n",
            "Requirement already satisfied: numpy>=1.21.0 in /usr/local/lib/python3.10/dist-packages (from pandas) (1.25.2)\n",
            "Requirement already satisfied: six>=1.5 in /usr/local/lib/python3.10/dist-packages (from python-dateutil>=2.8.1->pandas) (1.16.0)\n"
          ]
        }
      ]
    },
    {
      "cell_type": "markdown",
      "source": [
        "#Importing Libraries"
      ],
      "metadata": {
        "id": "mZU2PZ2WNUmY"
      },
      "id": "mZU2PZ2WNUmY"
    },
    {
      "cell_type": "code",
      "execution_count": 3,
      "id": "55ab1c19",
      "metadata": {
        "id": "55ab1c19"
      },
      "outputs": [],
      "source": [
        "import requests\n",
        "from bs4 import BeautifulSoup\n",
        "import re\n",
        "import pandas as pd"
      ]
    },
    {
      "cell_type": "markdown",
      "source": [
        "#Making a GET request"
      ],
      "metadata": {
        "id": "kjc9m_y-N45k"
      },
      "id": "kjc9m_y-N45k"
    },
    {
      "cell_type": "code",
      "execution_count": 4,
      "id": "0be11b4f",
      "metadata": {
        "colab": {
          "base_uri": "https://localhost:8080/"
        },
        "id": "0be11b4f",
        "outputId": "e31caadd-bdb5-4fbe-fed4-22610e01b6e9"
      },
      "outputs": [
        {
          "output_type": "stream",
          "name": "stdout",
          "text": [
            "200\n"
          ]
        }
      ],
      "source": [
        "url = 'https://www.imdb.com/chart/top/'\n",
        "headers = {\n",
        "    'User-Agent': 'Mozilla/5.0 (Windows NT 10.0; Win64; x64) AppleWebKit/537.36 (KHTML, like Gecko) Chrome/109.0.0.0 Safari/537.36',\n",
        "}\n",
        "r = requests.get(url,headers=headers)\n",
        "soup = BeautifulSoup(r.content, 'html.parser')\n",
        "print(r.status_code)"
      ]
    },
    {
      "cell_type": "markdown",
      "source": [
        "#Scraping and Cleaning Movie Titles"
      ],
      "metadata": {
        "id": "f7loPWwjOBZy"
      },
      "id": "f7loPWwjOBZy"
    },
    {
      "cell_type": "code",
      "source": [
        "def remove_numbers(strings):\n",
        "  updated_strings = []\n",
        "  for string in strings:\n",
        "    dot_index = string.find('.')\n",
        "    if dot_index != -1:\n",
        "      updated_strings.append(string[dot_index + 1:])\n",
        "    else:\n",
        "      updated_strings.append(string)\n",
        "  return updated_strings"
      ],
      "metadata": {
        "id": "uVC1ohUhTqu_"
      },
      "id": "uVC1ohUhTqu_",
      "execution_count": 5,
      "outputs": []
    },
    {
      "cell_type": "code",
      "execution_count": 9,
      "id": "9902c0f5",
      "metadata": {
        "id": "9902c0f5"
      },
      "outputs": [],
      "source": [
        "movie_title = []\n",
        "for title in soup.findAll('h3', {'class':'ipc-title__text'}):\n",
        "    movie_title.append(title.getText())\n",
        "del movie_title[251::]\n",
        "movie_title = remove_numbers(movie_title)\n",
        "del movie_title[0]"
      ]
    },
    {
      "cell_type": "markdown",
      "source": [
        "#Scraping For Release Years, Movie Duration"
      ],
      "metadata": {
        "id": "-ORu1SvCOHi7"
      },
      "id": "-ORu1SvCOHi7"
    },
    {
      "cell_type": "code",
      "execution_count": 7,
      "id": "6cf52f62",
      "metadata": {
        "id": "6cf52f62"
      },
      "outputs": [],
      "source": [
        "year = []\n",
        "duration = []\n",
        "for i in soup.findAll('span', {'class':'sc-b0691f29-8 ilsLEX cli-title-metadata-item'}):\n",
        "    if i.getText().isdigit()  and len(i.getText()) == 4:\n",
        "      year.append(i.getText())\n",
        "    elif 'h' in i.getText() or 'm' in i.getText():\n",
        "      duration.append(i.getText())"
      ]
    },
    {
      "cell_type": "markdown",
      "source": [
        "#Scraping For IMDB Ratings"
      ],
      "metadata": {
        "id": "nnMYajnTNEwC"
      },
      "id": "nnMYajnTNEwC"
    },
    {
      "cell_type": "code",
      "source": [
        "temp = []\n",
        "ratings = []\n",
        "for rating in soup.findAll('span', {'class':'ipc-rating-star ipc-rating-star--base ipc-rating-star--imdb ratingGroup--imdb-rating'}):\n",
        "    temp.append(rating.getText())\n",
        "for i in temp:\n",
        "  ratings.append(i[:3])\n"
      ],
      "metadata": {
        "id": "fwCalG3tTLSn"
      },
      "id": "fwCalG3tTLSn",
      "execution_count": 8,
      "outputs": []
    },
    {
      "cell_type": "markdown",
      "source": [
        "#Creating a .CSV File Using Pandas Library"
      ],
      "metadata": {
        "id": "agz05htHZw5i"
      },
      "id": "agz05htHZw5i"
    },
    {
      "cell_type": "code",
      "source": [
        "df = pd.DataFrame({\"Movie Title\":movie_title,\"IMDB Rating\":ratings,\"Year Of Release\":year,\"Duration\":duration})\n",
        "df = df.reset_index(drop=True)\n",
        "df.index += 1\n",
        "df.to_csv(\"IMDB Top 250.csv\", index_label ='Rank', header=True)"
      ],
      "metadata": {
        "id": "QoH7ucwtLpkC"
      },
      "id": "QoH7ucwtLpkC",
      "execution_count": null,
      "outputs": []
    }
  ],
  "metadata": {
    "kernelspec": {
      "display_name": "Python 3 (ipykernel)",
      "language": "python",
      "name": "python3"
    },
    "language_info": {
      "codemirror_mode": {
        "name": "ipython",
        "version": 3
      },
      "file_extension": ".py",
      "mimetype": "text/x-python",
      "name": "python",
      "nbconvert_exporter": "python",
      "pygments_lexer": "ipython3",
      "version": "3.11.4"
    },
    "colab": {
      "provenance": [],
      "include_colab_link": true
    }
  },
  "nbformat": 4,
  "nbformat_minor": 5
}